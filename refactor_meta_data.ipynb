{
 "cells": [
  {
   "cell_type": "code",
   "execution_count": 1,
   "id": "dedd83b5-ad94-4755-a59c-152264ba258f",
   "metadata": {
    "tags": []
   },
   "outputs": [],
   "source": [
    "import os"
   ]
  },
  {
   "cell_type": "code",
   "execution_count": 2,
   "id": "71068779-30ac-4f5c-ad10-2d6d26be0144",
   "metadata": {
    "tags": []
   },
   "outputs": [],
   "source": [
    "import json"
   ]
  },
  {
   "cell_type": "code",
   "execution_count": 45,
   "id": "d206a2bb-60e2-4a61-9215-3fbe41790a60",
   "metadata": {
    "tags": []
   },
   "outputs": [],
   "source": [
    "splits = os.listdir('human_color/split/meta_data')"
   ]
  },
  {
   "cell_type": "code",
   "execution_count": 46,
   "id": "294a9530-7d55-4798-8d20-83c9b1d5f819",
   "metadata": {
    "tags": []
   },
   "outputs": [],
   "source": [
    "images = os.listdir('human_color/split/images')"
   ]
  },
  {
   "cell_type": "code",
   "execution_count": 47,
   "id": "0210ab35-8c6d-43c6-85a5-74bb5fd9cc4c",
   "metadata": {
    "tags": []
   },
   "outputs": [],
   "source": [
    "splits = splits[1:]"
   ]
  },
  {
   "cell_type": "code",
   "execution_count": 48,
   "id": "1ef388d0-1418-4d89-bf99-ef16d0b631db",
   "metadata": {
    "tags": []
   },
   "outputs": [
    {
     "data": {
      "text/plain": [
       "['Colors_000000.jsonl',\n",
       " 'Colors_000001.jsonl',\n",
       " 'Colors_000002.jsonl',\n",
       " 'Colors_000003.jsonl',\n",
       " 'Colors_000004.jsonl',\n",
       " 'Colors_000005.jsonl',\n",
       " 'Colors_000006.jsonl',\n",
       " 'Colors_000007.jsonl',\n",
       " 'Colors_000008.jsonl',\n",
       " 'Colors_000009.jsonl',\n",
       " 'Colors_000010.jsonl',\n",
       " 'Colors_000011.jsonl',\n",
       " 'Colors_000012.jsonl',\n",
       " 'Colors_000013.jsonl',\n",
       " 'Colors_000014.jsonl',\n",
       " 'Colors_000015.jsonl',\n",
       " 'Colors_000016.jsonl',\n",
       " 'Colors_000017.jsonl',\n",
       " 'Colors_000018.jsonl',\n",
       " 'Colors_000019.jsonl']"
      ]
     },
     "execution_count": 48,
     "metadata": {},
     "output_type": "execute_result"
    }
   ],
   "source": [
    "splits"
   ]
  },
  {
   "cell_type": "code",
   "execution_count": 49,
   "id": "c2fe810b-37f6-4943-bb17-dfecbeb09c42",
   "metadata": {
    "tags": []
   },
   "outputs": [],
   "source": [
    "import shutil\n",
    "for i, file in enumerate(splits):\n",
    "    with open(os.path.join(\"human_color/split/meta_data\", file), \"r\") as f:\n",
    "        ans = list(f)\n",
    "    ans = [json.loads(_) for _ in ans]\n",
    "    \n",
    "    shutil.copy(f\"human_color/split/images/{ans[1]['image_filename']}\",\n",
    "                 \"Colors_%06d.png\" % (3 * i + 60))\n",
    "    shutil.copy(f\"human_color/split/images/{ans[2]['image_filename']}\",\n",
    "                 \"Colors_%06d.png\" % (3 * i + 1 + 60))\n",
    "    shutil.copy(f\"human_color/split/images/{ans[3]['image_filename']}\",\n",
    "                 \"Colors_%06d.png\" % (3 * i + 2 + 60))\n",
    "            \n",
    "    ans[0]['referent'][0] = \"Colors_%06d.png\" % (3 * i + 60)\n",
    "    ans[1]['image_filename'] = \"Colors_%06d.png\" % (3 * i+ 60) \n",
    "    ans[2]['image_filename'] = \"Colors_%06d.png\" % (3 * i + 1 + 60) \n",
    "    ans[3]['image_filename'] = \"Colors_%06d.png\" % (3 * i + 2 + 60)\n",
    "    \n",
    "    with open(os.path.join(\"human_color/meta_data\", \"Colors_%06d.json\" % (i+20)), \"w\") as f:\n",
    "        json.dump(ans, f, indent=4)"
   ]
  },
  {
   "cell_type": "code",
   "execution_count": null,
   "id": "3d2f49bc-edef-4d8d-8b03-d35b8329ba1f",
   "metadata": {},
   "outputs": [],
   "source": []
  }
 ],
 "metadata": {
  "kernelspec": {
   "display_name": "Python 3 (ipykernel)",
   "language": "python",
   "name": "python3"
  },
  "language_info": {
   "codemirror_mode": {
    "name": "ipython",
    "version": 3
   },
   "file_extension": ".py",
   "mimetype": "text/x-python",
   "name": "python",
   "nbconvert_exporter": "python",
   "pygments_lexer": "ipython3",
   "version": "3.11.9"
  }
 },
 "nbformat": 4,
 "nbformat_minor": 5
}
