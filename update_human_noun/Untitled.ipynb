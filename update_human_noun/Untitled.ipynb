{
 "cells": [
  {
   "cell_type": "code",
   "execution_count": 8,
   "id": "c778f726-de49-4ab2-b75a-327a4a29977d",
   "metadata": {
    "tags": []
   },
   "outputs": [],
   "source": [
    "import os\n",
    "import shutil\n",
    "import json"
   ]
  },
  {
   "cell_type": "code",
   "execution_count": 2,
   "id": "05144416-605d-4905-9aa9-6912bda86f9b",
   "metadata": {
    "tags": []
   },
   "outputs": [],
   "source": [
    "current_filenames = os.listdir(\"./meta_data\")"
   ]
  },
  {
   "cell_type": "code",
   "execution_count": 10,
   "id": "74f252d4-e754-41e5-8b36-c53142c037c0",
   "metadata": {
    "tags": []
   },
   "outputs": [],
   "source": [
    "for file in current_filenames:\n",
    "    #\n",
    "    with open(os.path.join(\"/mnt/workspace/workgroup2/jianyu/jianyu-cs.github.io/imagenet/human_noun/meta_data\", file), \"r\") as f:\n",
    "        ans = list(f)\n",
    "    ans = [json.loads(_) for _ in ans]\n",
    "    for element in ans:\n",
    "        if \"image\" in element:\n",
    "            shutil.copy(os.path.join(\"/mnt/workspace/workgroup2/jianyu/jianyu-cs.github.io/imagenet/human_noun/images\", element['image']),\n",
    "                       os.path.join(\"/mnt/workspace/workgroup/jianyu/MM-IR.github.io/human_noun/update_human_noun/images\", element['image']))"
   ]
  },
  {
   "cell_type": "code",
   "execution_count": 5,
   "id": "1f29b5a8-98c6-4b2f-81c8-04d3b8f50868",
   "metadata": {
    "tags": []
   },
   "outputs": [
    {
     "data": {
      "text/plain": [
       "'/mnt/workspace/workgroup/jianyu/MM-IR.github.io/human_noun/update_human_noun'"
      ]
     },
     "execution_count": 5,
     "metadata": {},
     "output_type": "execute_result"
    }
   ],
   "source": [
    "pwd"
   ]
  },
  {
   "cell_type": "code",
   "execution_count": null,
   "id": "b7db9331-6c48-4f7c-933a-7c8d926f66db",
   "metadata": {},
   "outputs": [],
   "source": []
  }
 ],
 "metadata": {
  "kernelspec": {
   "display_name": "Python 3 (ipykernel)",
   "language": "python",
   "name": "python3"
  },
  "language_info": {
   "codemirror_mode": {
    "name": "ipython",
    "version": 3
   },
   "file_extension": ".py",
   "mimetype": "text/x-python",
   "name": "python",
   "nbconvert_exporter": "python",
   "pygments_lexer": "ipython3",
   "version": "3.11.5"
  }
 },
 "nbformat": 4,
 "nbformat_minor": 5
}
